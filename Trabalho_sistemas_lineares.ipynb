{
  "nbformat": 4,
  "nbformat_minor": 0,
  "metadata": {
    "colab": {
      "provenance": [],
      "authorship_tag": "ABX9TyP6WCDSsmXYlYr4WCsaVXFR",
      "include_colab_link": true
    },
    "kernelspec": {
      "name": "python3",
      "display_name": "Python 3"
    },
    "language_info": {
      "name": "python"
    }
  },
  "cells": [
    {
      "cell_type": "markdown",
      "metadata": {
        "id": "view-in-github",
        "colab_type": "text"
      },
      "source": [
        "<a href=\"https://colab.research.google.com/github/Guyrlam/sistema-lineares-jupyter/blob/main/Trabalho_sistemas_lineares.ipynb\" target=\"_parent\"><img src=\"https://colab.research.google.com/assets/colab-badge.svg\" alt=\"Open In Colab\"/></a>"
      ]
    },
    {
      "cell_type": "markdown",
      "source": [
        "# **Trabalho sobre a resolução de sistemas lineares** - GAAL - TE1\n"
      ],
      "metadata": {
        "id": "7Aeu7QMwA2gy"
      }
    },
    {
      "cell_type": "markdown",
      "source": [
        "Notebook elaborado por:\n",
        "-  Guyrlam Silva Duque (guyrlam@ufmg.br)\n",
        "- Luis Filipe Resende de Oliveira (lfro@ufmg.br)\n",
        "\n",
        "Versão: 25 de Novembro de 2023"
      ],
      "metadata": {
        "id": "Ngg_pXEXEfzL"
      }
    },
    {
      "cell_type": "markdown",
      "source": [
        "Neste trabalho, assim como orientado, iremos demonstrar a resolução do **sistema linear** proposto utilizando a linguagem a linguagem python com o auxilio da biblioteca `sympy`, que oferece funções para manipular as matrizes criadas; e da `IPython`, que oferece funções para uma visualização mais agradável das matrizes."
      ],
      "metadata": {
        "id": "z6IH5dMZGCWl"
      }
    },
    {
      "cell_type": "markdown",
      "source": [
        "# Sumário"
      ],
      "metadata": {
        "id": "0ct9sTYAIbbe"
      }
    },
    {
      "cell_type": "markdown",
      "source": [
        "1. [Configurações iniciais](#sec1)\n",
        "\n",
        "2. [Sistema Linear](#sec2)\n",
        "\n",
        "3. [Resolução do sistema](#sec2)\n",
        "\n",
        " 3.1 [Método de Gauss-Jordan](#sec3.1)\n",
        "\n",
        " 3.2 [Método da inversa](#sec3.2)\n",
        "\n",
        " 3.3 [Regra de Cramer](#sec3.3)"
      ],
      "metadata": {
        "id": "vlAJ1WFkIojU"
      }
    },
    {
      "cell_type": "markdown",
      "source": [
        "<a name=sec1></a>\n",
        "# 1. Configurações iniciais"
      ],
      "metadata": {
        "id": "al6LdbicJMH2"
      }
    },
    {
      "cell_type": "markdown",
      "source": [
        "Inicialmente importamos a biblioteca `sympy` e a função `display` da biblioteca `IPython.display` para nos auxiliar na manipulação e exibição das matrizes respectivamente.\n",
        "\n",
        "Além disso executamos a função `init_printing()` da biblioteca `sympy`, usada para configurar a saída de impressão, de modo que as expressões matemáticas simbólicas sejam formatadas de maneira mais legível."
      ],
      "metadata": {
        "id": "exJOREx4J8sX"
      }
    },
    {
      "cell_type": "code",
      "source": [
        "#Carregamos a biblioteca Sympy\n",
        "import sympy as sp\n",
        "\n",
        "#Importamos algumas funções de IPython.display para obter uma impressão mais agradável\n",
        "from IPython.display import display\n",
        "\n",
        "#Escolhemos a melhor ferramenta para visualizar matemática numa notebook Jupyter\n",
        "sp.init_printing()"
      ],
      "metadata": {
        "id": "CADT-ag1Mogq"
      },
      "execution_count": null,
      "outputs": []
    },
    {
      "cell_type": "markdown",
      "source": [
        "<a name=sec2></a>\n",
        "# 2. Sistema Linear"
      ],
      "metadata": {
        "id": "SfGGfKi2OCmJ"
      }
    },
    {
      "cell_type": "markdown",
      "source": [
        "O sistema linear que iremos resolver a partir dos métodos apresentados é o seguinte:\n",
        "\n",
        "\\\n",
        "\\begin{align*}\n",
        " 4x_1 +  x_2 + 2x_3 + 4x_4 + 2x_5 + 2x_6 & = -2\\\\\n",
        " 2x_1 + 2x_2 + 2x_3 + 3x_4 + 3x_5 + 4x_6 & = -1\\\\\n",
        " 4x_1 + 2x_2 +  x_3 + 4x_4        + 2x_6 & = 1\\\\\n",
        " x_1         + 2x_3 + 4x_4 + 3x_5        & = 0\\\\\n",
        "        4x_2        + 4x_4               & = 0\\\\\n",
        " 2x_1 + 3x_2 + 4x_3 + x_4  + 2x_5 +  x_6 & = 2\\\\\n",
        "\\end{align*}\n",
        "\\\n",
        "Sendo assim, podemos utilizar a matriz do sistema e a coluna dos termos idependentes que é dada nas orientações do trabalho:\n"
      ],
      "metadata": {
        "id": "-wMlR2OTOLQ3"
      }
    },
    {
      "cell_type": "code",
      "source": [
        "#Matriz do sistema\n",
        "matriz_sistema = sp.Matrix([[ 4, 1, 2, 4, 2, 2],\n",
        "  [2, 2, 2, 3, 3, 4],\n",
        "  [4, 2, 1, 4, 0, 2],\n",
        "  [1, 0, 2, 4, 3, 0],\n",
        "  [0, 4, 0, 4, 0, 0],\n",
        "  [2, 3, 4, 1, 2, 1]])\n",
        "\n",
        "display(matriz_sistema)"
      ],
      "metadata": {
        "colab": {
          "base_uri": "https://localhost:8080/",
          "height": 139
        },
        "id": "QE_0PCvlPhm_",
        "outputId": "ef470675-3150-43ed-c293-4ab07ed6b8a2"
      },
      "execution_count": null,
      "outputs": [
        {
          "output_type": "display_data",
          "data": {
            "text/plain": [
              "⎡4  1  2  4  2  2⎤\n",
              "⎢                ⎥\n",
              "⎢2  2  2  3  3  4⎥\n",
              "⎢                ⎥\n",
              "⎢4  2  1  4  0  2⎥\n",
              "⎢                ⎥\n",
              "⎢1  0  2  4  3  0⎥\n",
              "⎢                ⎥\n",
              "⎢0  4  0  4  0  0⎥\n",
              "⎢                ⎥\n",
              "⎣2  3  4  1  2  1⎦"
            ],
            "text/latex": "$\\displaystyle \\left[\\begin{matrix}4 & 1 & 2 & 4 & 2 & 2\\\\2 & 2 & 2 & 3 & 3 & 4\\\\4 & 2 & 1 & 4 & 0 & 2\\\\1 & 0 & 2 & 4 & 3 & 0\\\\0 & 4 & 0 & 4 & 0 & 0\\\\2 & 3 & 4 & 1 & 2 & 1\\end{matrix}\\right]$"
          },
          "metadata": {}
        }
      ]
    },
    {
      "cell_type": "code",
      "source": [
        "#Termos independentes\n",
        "termos_idependentes = sp.Matrix([ -2, -1, 1, 0, 0, 2 ])\n",
        "\n",
        "display(termos_idependentes)"
      ],
      "metadata": {
        "colab": {
          "base_uri": "https://localhost:8080/",
          "height": 139
        },
        "id": "qN_RVbg6P7C5",
        "outputId": "22ee3d74-f244-4725-aed7-8b7106ec2679"
      },
      "execution_count": null,
      "outputs": [
        {
          "output_type": "display_data",
          "data": {
            "text/plain": [
              "⎡-2⎤\n",
              "⎢  ⎥\n",
              "⎢-1⎥\n",
              "⎢  ⎥\n",
              "⎢1 ⎥\n",
              "⎢  ⎥\n",
              "⎢0 ⎥\n",
              "⎢  ⎥\n",
              "⎢0 ⎥\n",
              "⎢  ⎥\n",
              "⎣2 ⎦"
            ],
            "text/latex": "$\\displaystyle \\left[\\begin{matrix}-2\\\\-1\\\\1\\\\0\\\\0\\\\2\\end{matrix}\\right]$"
          },
          "metadata": {}
        }
      ]
    },
    {
      "cell_type": "markdown",
      "source": [
        "<a name=sec3></a>\n",
        "# 3. Resolução do sistema"
      ],
      "metadata": {
        "id": "pxNKH6E8QVpD"
      }
    },
    {
      "cell_type": "markdown",
      "source": [
        "A partir dos dados exibidos anteriormente, mostraremos a resolução do sistema em pauta com três métodos diferentes:"
      ],
      "metadata": {
        "id": "HyQZDS_CQxLv"
      }
    },
    {
      "cell_type": "markdown",
      "source": [
        "<a name=sec3.1></a>\n",
        "### 3.1 Método de Gauss-Jordan"
      ],
      "metadata": {
        "id": "xSmfDb-DSYMg"
      }
    },
    {
      "cell_type": "markdown",
      "source": [
        "Para obter a solução do sistema a partir desse método, produzimos sua **matriz aumentada** e em seguida sua **forma escalonada reduzida**:"
      ],
      "metadata": {
        "id": "p1xlrOaBSl3a"
      }
    },
    {
      "cell_type": "code",
      "source": [
        "#Matriz aumentada\n",
        "matriz_aumentada = termos_idependentes.col_insert(0, matriz_sistema)\n",
        "display(matriz_aumentada)"
      ],
      "metadata": {
        "colab": {
          "base_uri": "https://localhost:8080/",
          "height": 139
        },
        "id": "M4n1GFMeTKr5",
        "outputId": "8c796374-bff2-4f5f-c8c6-80933e134a52"
      },
      "execution_count": null,
      "outputs": [
        {
          "output_type": "display_data",
          "data": {
            "text/plain": [
              "⎡4  1  2  4  2  2  -2⎤\n",
              "⎢                    ⎥\n",
              "⎢2  2  2  3  3  4  -1⎥\n",
              "⎢                    ⎥\n",
              "⎢4  2  1  4  0  2  1 ⎥\n",
              "⎢                    ⎥\n",
              "⎢1  0  2  4  3  0  0 ⎥\n",
              "⎢                    ⎥\n",
              "⎢0  4  0  4  0  0  0 ⎥\n",
              "⎢                    ⎥\n",
              "⎣2  3  4  1  2  1  2 ⎦"
            ],
            "text/latex": "$\\displaystyle \\left[\\begin{matrix}4 & 1 & 2 & 4 & 2 & 2 & -2\\\\2 & 2 & 2 & 3 & 3 & 4 & -1\\\\4 & 2 & 1 & 4 & 0 & 2 & 1\\\\1 & 0 & 2 & 4 & 3 & 0 & 0\\\\0 & 4 & 0 & 4 & 0 & 0 & 0\\\\2 & 3 & 4 & 1 & 2 & 1 & 2\\end{matrix}\\right]$"
          },
          "metadata": {}
        }
      ]
    },
    {
      "cell_type": "code",
      "source": [
        "#Forma escalonada reduzida de matriz_aumentada\n",
        "matriz_escalonada = matriz_aumentada.rref()[0]\n",
        "display(matriz_escalonada)"
      ],
      "metadata": {
        "colab": {
          "base_uri": "https://localhost:8080/",
          "height": 139
        },
        "id": "7makfKWlTiKu",
        "outputId": "3261030f-4db1-4b3e-926e-e771fc0cd3d5"
      },
      "execution_count": null,
      "outputs": [
        {
          "output_type": "display_data",
          "data": {
            "text/plain": [
              "⎡1  0  0  0  0  0  -3⎤\n",
              "⎢                    ⎥\n",
              "⎢0  1  0  0  0  0  -2⎥\n",
              "⎢                    ⎥\n",
              "⎢0  0  1  0  0  0  5 ⎥\n",
              "⎢                    ⎥\n",
              "⎢0  0  0  1  0  0  2 ⎥\n",
              "⎢                    ⎥\n",
              "⎢0  0  0  0  1  0  -5⎥\n",
              "⎢                    ⎥\n",
              "⎣0  0  0  0  0  1  2 ⎦"
            ],
            "text/latex": "$\\displaystyle \\left[\\begin{matrix}1 & 0 & 0 & 0 & 0 & 0 & -3\\\\0 & 1 & 0 & 0 & 0 & 0 & -2\\\\0 & 0 & 1 & 0 & 0 & 0 & 5\\\\0 & 0 & 0 & 1 & 0 & 0 & 2\\\\0 & 0 & 0 & 0 & 1 & 0 & -5\\\\0 & 0 & 0 & 0 & 0 & 1 & 2\\end{matrix}\\right]$"
          },
          "metadata": {}
        }
      ]
    },
    {
      "cell_type": "markdown",
      "source": [
        "Observando a matriz resultante, percebemos que o sitema possui uma solução unica, a qual é representada pela sua última coluna:\n",
        "\n",
        "$x_1 = -3; x_2 = -2;x_3 = 5; x_4 = 2;x_5 = -5; x_6 = 2$\n"
      ],
      "metadata": {
        "id": "dXMCrEMBUDHQ"
      }
    },
    {
      "cell_type": "markdown",
      "source": [
        "<a name=sec3.2></a>\n",
        "### 3.2 Método da inversa"
      ],
      "metadata": {
        "id": "VBYZ10c0XDF7"
      }
    },
    {
      "cell_type": "markdown",
      "source": [
        "Para obter a solução do sistema a partir desse método, produzimos sua **matriz inversa** e em seguida multiplicamos essa pela coluna dos **termos idependentes**"
      ],
      "metadata": {
        "id": "C3wX_QLeXLLC"
      }
    },
    {
      "cell_type": "code",
      "source": [
        "#Inversa da matriz do sistema\n",
        "matriz_inversa = matriz_sistema**-1\n",
        "display(matriz_inversa)"
      ],
      "metadata": {
        "colab": {
          "base_uri": "https://localhost:8080/",
          "height": 139
        },
        "id": "DXRIMDFWZlOW",
        "outputId": "66def227-b853-43d0-c597-9475bfa96fb4"
      },
      "execution_count": null,
      "outputs": [
        {
          "output_type": "display_data",
          "data": {
            "text/plain": [
              "⎡ 53   -11   -30    -23     35        ⎤\n",
              "⎢ ──   ────  ────   ────   ───   -2/43⎥\n",
              "⎢ 43    43    43     43    172        ⎥\n",
              "⎢                                     ⎥\n",
              "⎢ 33   -10   -82    -20     49        ⎥\n",
              "⎢ ──   ────  ────   ────   ───   2/43 ⎥\n",
              "⎢ 43   129   129     43    129        ⎥\n",
              "⎢                                     ⎥\n",
              "⎢-70    16    157    32   -131    14  ⎥\n",
              "⎢────  ───    ───    ──   ─────   ──  ⎥\n",
              "⎢ 43   129    129    43    258    43  ⎥\n",
              "⎢                                     ⎥\n",
              "⎢-33    10     82    20   -67         ⎥\n",
              "⎢────  ───    ───    ──   ────   -2/43⎥\n",
              "⎢ 43   129    129    43   516         ⎥\n",
              "⎢                                     ⎥\n",
              "⎢ 73   -13   -184   -26    229        ⎥\n",
              "⎢ ──   ────  ─────  ────   ───   -6/43⎥\n",
              "⎢ 43   129    129    43    516        ⎥\n",
              "⎢                                     ⎥\n",
              "⎢-38    16    28     10   -47         ⎥\n",
              "⎢────   ──    ──     ──   ────   -1/43⎥\n",
              "⎣ 43    43    43     43   172         ⎦"
            ],
            "text/latex": "$\\displaystyle \\left[\\begin{matrix}\\frac{53}{43} & - \\frac{11}{43} & - \\frac{30}{43} & - \\frac{23}{43} & \\frac{35}{172} & - \\frac{2}{43}\\\\\\frac{33}{43} & - \\frac{10}{129} & - \\frac{82}{129} & - \\frac{20}{43} & \\frac{49}{129} & \\frac{2}{43}\\\\- \\frac{70}{43} & \\frac{16}{129} & \\frac{157}{129} & \\frac{32}{43} & - \\frac{131}{258} & \\frac{14}{43}\\\\- \\frac{33}{43} & \\frac{10}{129} & \\frac{82}{129} & \\frac{20}{43} & - \\frac{67}{516} & - \\frac{2}{43}\\\\\\frac{73}{43} & - \\frac{13}{129} & - \\frac{184}{129} & - \\frac{26}{43} & \\frac{229}{516} & - \\frac{6}{43}\\\\- \\frac{38}{43} & \\frac{16}{43} & \\frac{28}{43} & \\frac{10}{43} & - \\frac{47}{172} & - \\frac{1}{43}\\end{matrix}\\right]$"
          },
          "metadata": {}
        }
      ]
    },
    {
      "cell_type": "code",
      "source": [
        "#Multiplicaçao da inversa pelos termos idependentes\n",
        "solucao = matriz_inversa*termos_idependentes\n",
        "display(solucao)"
      ],
      "metadata": {
        "colab": {
          "base_uri": "https://localhost:8080/",
          "height": 139
        },
        "id": "1kuZmzeLZz0T",
        "outputId": "697eb822-bac8-47e8-c83f-568b6a53115d"
      },
      "execution_count": null,
      "outputs": [
        {
          "output_type": "display_data",
          "data": {
            "text/plain": [
              "⎡-3⎤\n",
              "⎢  ⎥\n",
              "⎢-2⎥\n",
              "⎢  ⎥\n",
              "⎢5 ⎥\n",
              "⎢  ⎥\n",
              "⎢2 ⎥\n",
              "⎢  ⎥\n",
              "⎢-5⎥\n",
              "⎢  ⎥\n",
              "⎣2 ⎦"
            ],
            "text/latex": "$\\displaystyle \\left[\\begin{matrix}-3\\\\-2\\\\5\\\\2\\\\-5\\\\2\\end{matrix}\\right]$"
          },
          "metadata": {}
        }
      ]
    },
    {
      "cell_type": "markdown",
      "source": [
        "Percebe-se que obtemos a mesma solução do método de Gauss-Jordan"
      ],
      "metadata": {
        "id": "ciN_QrTZaWGL"
      }
    },
    {
      "cell_type": "markdown",
      "source": [
        "<a name=sec3.3></a>\n",
        "### 3.3 Regra de Cramer"
      ],
      "metadata": {
        "id": "9xzjWlwEatac"
      }
    },
    {
      "cell_type": "markdown",
      "source": [
        "A [regra de Cramer](https://pt.wikipedia.org/wiki/Regra_de_Cramer) é uma outra maneira de resolver sistemas de equações lineares com matriz inversível."
      ],
      "metadata": {
        "id": "F9RoLY6NdHDW"
      }
    },
    {
      "cell_type": "markdown",
      "source": [
        "Para obter a solução do sistema a partir desse método, trocamos cada coluna pela coluna de termos idependentes e dividimos o determinante dessas pelo determinantes da matriz do sistema, obtendo o valor da variável correspondente à coluna subtituída:"
      ],
      "metadata": {
        "id": "qEvErqGjbAEC"
      }
    },
    {
      "cell_type": "code",
      "source": [
        "# Criamos uma cópia da matriz do sistema\n",
        "copia1 = matriz_sistema[:, :]\n",
        "\n",
        "# trocamos sua primeira coluna pela coluna de termos idependentes\n",
        "copia1[:,0] = termos_idependentes\n",
        "\n",
        "display(copia1)"
      ],
      "metadata": {
        "colab": {
          "base_uri": "https://localhost:8080/",
          "height": 139
        },
        "id": "kDxXY-jsdrui",
        "outputId": "8f11a02d-692a-43bf-80d9-715096a054b5"
      },
      "execution_count": null,
      "outputs": [
        {
          "output_type": "display_data",
          "data": {
            "text/plain": [
              "⎡-2  1  2  4  2  2⎤\n",
              "⎢                 ⎥\n",
              "⎢-1  2  2  3  3  4⎥\n",
              "⎢                 ⎥\n",
              "⎢1   2  1  4  0  2⎥\n",
              "⎢                 ⎥\n",
              "⎢0   0  2  4  3  0⎥\n",
              "⎢                 ⎥\n",
              "⎢0   4  0  4  0  0⎥\n",
              "⎢                 ⎥\n",
              "⎣2   3  4  1  2  1⎦"
            ],
            "text/latex": "$\\displaystyle \\left[\\begin{matrix}-2 & 1 & 2 & 4 & 2 & 2\\\\-1 & 2 & 2 & 3 & 3 & 4\\\\1 & 2 & 1 & 4 & 0 & 2\\\\0 & 0 & 2 & 4 & 3 & 0\\\\0 & 4 & 0 & 4 & 0 & 0\\\\2 & 3 & 4 & 1 & 2 & 1\\end{matrix}\\right]$"
          },
          "metadata": {}
        }
      ]
    },
    {
      "cell_type": "code",
      "source": [
        "# Criamos uma cópia da matriz do sistema\n",
        "copia2 = matriz_sistema[:, :]\n",
        "\n",
        "# trocamos sua segunda coluna pela coluna de termos idependentes\n",
        "copia2[:,1] = termos_idependentes\n",
        "\n",
        "display(copia2)"
      ],
      "metadata": {
        "colab": {
          "base_uri": "https://localhost:8080/",
          "height": 139
        },
        "id": "YF80-wXtfInf",
        "outputId": "ee5fe1df-ca1e-4714-e000-7338d14f65cf"
      },
      "execution_count": null,
      "outputs": [
        {
          "output_type": "display_data",
          "data": {
            "text/plain": [
              "⎡4  -2  2  4  2  2⎤\n",
              "⎢                 ⎥\n",
              "⎢2  -1  2  3  3  4⎥\n",
              "⎢                 ⎥\n",
              "⎢4  1   1  4  0  2⎥\n",
              "⎢                 ⎥\n",
              "⎢1  0   2  4  3  0⎥\n",
              "⎢                 ⎥\n",
              "⎢0  0   0  4  0  0⎥\n",
              "⎢                 ⎥\n",
              "⎣2  2   4  1  2  1⎦"
            ],
            "text/latex": "$\\displaystyle \\left[\\begin{matrix}4 & -2 & 2 & 4 & 2 & 2\\\\2 & -1 & 2 & 3 & 3 & 4\\\\4 & 1 & 1 & 4 & 0 & 2\\\\1 & 0 & 2 & 4 & 3 & 0\\\\0 & 0 & 0 & 4 & 0 & 0\\\\2 & 2 & 4 & 1 & 2 & 1\\end{matrix}\\right]$"
          },
          "metadata": {}
        }
      ]
    },
    {
      "cell_type": "code",
      "source": [
        "# Criamos uma cópia da matriz do sistema\n",
        "copia3 = matriz_sistema[:, :]\n",
        "\n",
        "# trocamos sua terceira coluna pela coluna de termos idependentes\n",
        "copia3[:,2] = termos_idependentes\n",
        "\n",
        "display(copia3)"
      ],
      "metadata": {
        "colab": {
          "base_uri": "https://localhost:8080/",
          "height": 139
        },
        "id": "FrpQ1xTyfnGK",
        "outputId": "e28bbdb0-d0de-465f-9aa4-13cc3ae11bfd"
      },
      "execution_count": null,
      "outputs": [
        {
          "output_type": "display_data",
          "data": {
            "text/plain": [
              "⎡4  1  -2  4  2  2⎤\n",
              "⎢                 ⎥\n",
              "⎢2  2  -1  3  3  4⎥\n",
              "⎢                 ⎥\n",
              "⎢4  2  1   4  0  2⎥\n",
              "⎢                 ⎥\n",
              "⎢1  0  0   4  3  0⎥\n",
              "⎢                 ⎥\n",
              "⎢0  4  0   4  0  0⎥\n",
              "⎢                 ⎥\n",
              "⎣2  3  2   1  2  1⎦"
            ],
            "text/latex": "$\\displaystyle \\left[\\begin{matrix}4 & 1 & -2 & 4 & 2 & 2\\\\2 & 2 & -1 & 3 & 3 & 4\\\\4 & 2 & 1 & 4 & 0 & 2\\\\1 & 0 & 0 & 4 & 3 & 0\\\\0 & 4 & 0 & 4 & 0 & 0\\\\2 & 3 & 2 & 1 & 2 & 1\\end{matrix}\\right]$"
          },
          "metadata": {}
        }
      ]
    },
    {
      "cell_type": "code",
      "source": [
        "# Criamos uma cópia da matriz do sistema\n",
        "copia4 = matriz_sistema[:, :]\n",
        "\n",
        "# trocamos sua quarta coluna pela coluna de termos idependentes\n",
        "copia4[:,3] = termos_idependentes\n",
        "\n",
        "display(copia4)"
      ],
      "metadata": {
        "colab": {
          "base_uri": "https://localhost:8080/",
          "height": 139
        },
        "id": "VAWJ6YV_fyNF",
        "outputId": "f7f853ba-47bc-483e-8fe7-101c2bf29c87"
      },
      "execution_count": null,
      "outputs": [
        {
          "output_type": "display_data",
          "data": {
            "text/plain": [
              "⎡4  1  2  -2  2  2⎤\n",
              "⎢                 ⎥\n",
              "⎢2  2  2  -1  3  4⎥\n",
              "⎢                 ⎥\n",
              "⎢4  2  1  1   0  2⎥\n",
              "⎢                 ⎥\n",
              "⎢1  0  2  0   3  0⎥\n",
              "⎢                 ⎥\n",
              "⎢0  4  0  0   0  0⎥\n",
              "⎢                 ⎥\n",
              "⎣2  3  4  2   2  1⎦"
            ],
            "text/latex": "$\\displaystyle \\left[\\begin{matrix}4 & 1 & 2 & -2 & 2 & 2\\\\2 & 2 & 2 & -1 & 3 & 4\\\\4 & 2 & 1 & 1 & 0 & 2\\\\1 & 0 & 2 & 0 & 3 & 0\\\\0 & 4 & 0 & 0 & 0 & 0\\\\2 & 3 & 4 & 2 & 2 & 1\\end{matrix}\\right]$"
          },
          "metadata": {}
        }
      ]
    },
    {
      "cell_type": "code",
      "source": [
        "# Criamos uma cópia da matriz do sistema\n",
        "copia5 = matriz_sistema[:, :]\n",
        "\n",
        "# trocamos sua quinta coluna pela coluna de termos idependentes\n",
        "copia5[:,4] = termos_idependentes\n",
        "\n",
        "display(copia5)"
      ],
      "metadata": {
        "colab": {
          "base_uri": "https://localhost:8080/",
          "height": 139
        },
        "id": "nQEefUccgBDV",
        "outputId": "3fcd5823-b058-4ed5-8496-538ef696f3fe"
      },
      "execution_count": null,
      "outputs": [
        {
          "output_type": "display_data",
          "data": {
            "text/plain": [
              "⎡4  1  2  4  -2  2⎤\n",
              "⎢                 ⎥\n",
              "⎢2  2  2  3  -1  4⎥\n",
              "⎢                 ⎥\n",
              "⎢4  2  1  4  1   2⎥\n",
              "⎢                 ⎥\n",
              "⎢1  0  2  4  0   0⎥\n",
              "⎢                 ⎥\n",
              "⎢0  4  0  4  0   0⎥\n",
              "⎢                 ⎥\n",
              "⎣2  3  4  1  2   1⎦"
            ],
            "text/latex": "$\\displaystyle \\left[\\begin{matrix}4 & 1 & 2 & 4 & -2 & 2\\\\2 & 2 & 2 & 3 & -1 & 4\\\\4 & 2 & 1 & 4 & 1 & 2\\\\1 & 0 & 2 & 4 & 0 & 0\\\\0 & 4 & 0 & 4 & 0 & 0\\\\2 & 3 & 4 & 1 & 2 & 1\\end{matrix}\\right]$"
          },
          "metadata": {}
        }
      ]
    },
    {
      "cell_type": "code",
      "source": [
        "# Criamos uma cópia da matriz do sistema\n",
        "copia6 = matriz_sistema[:, :]\n",
        "\n",
        "# trocamos sua sexta coluna pela coluna de termos idependentes\n",
        "copia6[:,5] = termos_idependentes\n",
        "\n",
        "display(copia6)"
      ],
      "metadata": {
        "colab": {
          "base_uri": "https://localhost:8080/",
          "height": 139
        },
        "id": "mh0mxn97gI75",
        "outputId": "2c714517-0291-4f5b-e2e4-9d90918ef120"
      },
      "execution_count": null,
      "outputs": [
        {
          "output_type": "display_data",
          "data": {
            "text/plain": [
              "⎡4  1  2  4  2  -2⎤\n",
              "⎢                 ⎥\n",
              "⎢2  2  2  3  3  -1⎥\n",
              "⎢                 ⎥\n",
              "⎢4  2  1  4  0  1 ⎥\n",
              "⎢                 ⎥\n",
              "⎢1  0  2  4  3  0 ⎥\n",
              "⎢                 ⎥\n",
              "⎢0  4  0  4  0  0 ⎥\n",
              "⎢                 ⎥\n",
              "⎣2  3  4  1  2  2 ⎦"
            ],
            "text/latex": "$\\displaystyle \\left[\\begin{matrix}4 & 1 & 2 & 4 & 2 & -2\\\\2 & 2 & 2 & 3 & 3 & -1\\\\4 & 2 & 1 & 4 & 0 & 1\\\\1 & 0 & 2 & 4 & 3 & 0\\\\0 & 4 & 0 & 4 & 0 & 0\\\\2 & 3 & 4 & 1 & 2 & 2\\end{matrix}\\right]$"
          },
          "metadata": {}
        }
      ]
    },
    {
      "cell_type": "code",
      "source": [
        "#Formamos a matriz de soluçao do sistema dividindo o determinante de cada matriz formada pelo determinante da matriz do sistema\n",
        "solucao2 = []\n",
        "\n",
        "#Optamos pelo uso de uma estrutura de repetição para tornar a leitura do código mais agradável\n",
        "for i in range(6):\n",
        "  copia = globals()[f'copia{i+1}']  # Obtém o valor da variável usando globals()\n",
        "  solucao2.append(copia.det()/matriz_sistema.det())\n",
        "\n",
        "display(solucao2)"
      ],
      "metadata": {
        "colab": {
          "base_uri": "https://localhost:8080/",
          "height": 37
        },
        "id": "9i9HRBQrgXHX",
        "outputId": "c7744b4c-23f2-4004-b2f5-be89396fe4e4"
      },
      "execution_count": null,
      "outputs": [
        {
          "output_type": "display_data",
          "data": {
            "text/plain": [
              "[-3, -2, 5, 2, -5, 2]"
            ],
            "text/latex": "$\\displaystyle \\left[ -3, \\  -2, \\  5, \\  2, \\  -5, \\  2\\right]$"
          },
          "metadata": {}
        }
      ]
    },
    {
      "cell_type": "markdown",
      "source": [
        "Percebe-se que obtemos a mesma solução dos métodos anteriores"
      ],
      "metadata": {
        "id": "rBJsutyJkXFV"
      }
    }
  ]
}